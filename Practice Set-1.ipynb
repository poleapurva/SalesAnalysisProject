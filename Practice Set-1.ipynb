{
 "cells": [
  {
   "cell_type": "code",
   "execution_count": 3,
   "id": "79d6eb74",
   "metadata": {},
   "outputs": [
    {
     "name": "stdout",
     "output_type": "stream",
     "text": [
      "Welcome EduTECH... Provide your user ID & Pass:\n",
      "Enter Your ID : vishalDhayagude\n",
      "Enter Your Pass: zbasdgf\n",
      "\n",
      "********************\n",
      "Your User Name :  vishalDhayagude\n",
      "Your pass :  zbasdgf\n"
     ]
    }
   ],
   "source": [
    "#Write a Program to display User Name & Pass : Take input from user\n",
    "\n",
    "print(\"Welcome EduTECH... Provide your user ID & Pass:\")\n",
    "\n",
    "user_id = input(\"Enter Your ID : \")\n",
    "pwd = input(\"Enter Your Pass: \")\n",
    "\n",
    "print()\n",
    "\n",
    "print(\"*****\"*4)\n",
    "print(\"Your User Name : \" , user_id)\n",
    "print(\"Your pass : \" , pwd)\n"
   ]
  },
  {
   "cell_type": "code",
   "execution_count": 2,
   "id": "710bb454",
   "metadata": {},
   "outputs": [
    {
     "name": "stdout",
     "output_type": "stream",
     "text": [
      "First number is:24\n",
      "Second number is:26\n",
      "Third number is:20\n",
      "Addition of three numbers is: 70\n"
     ]
    }
   ],
   "source": [
    "#Write a programme to do addition : take three numbers from the user \n",
    "\n",
    "num1= int(input(\"First number is:\"))\n",
    "num2= int(input (\"Second number is:\"))\n",
    "num3= int(input (\"Third number is:\"))\n",
    "print(\"Addition of three numbers is:\",(num1+num2+num3))\n"
   ]
  },
  {
   "cell_type": "code",
   "execution_count": 6,
   "id": "5b0249db",
   "metadata": {},
   "outputs": [
    {
     "name": "stdout",
     "output_type": "stream",
     "text": [
      "This Program will Return you Student Marks avg & Pec\n",
      "Enter Student Name : Vaishanvi\n",
      "Phy :55\n",
      "Che :85\n",
      "Bio :74\n",
      "Math :89\n",
      "Student Name :  Vaishanvi\n",
      "Average Marks of  Vaishanvi  are  75.75\n",
      "Percentage of  Vaishanvi  are  75.75\n"
     ]
    }
   ],
   "source": [
    "#write a programme to take input as a marks in physics, chemistry, biology and maths and \n",
    "#display student average marks & percentage\n",
    "\n",
    "print(\"This Program will Return you Student Marks avg & Pec\")\n",
    "\n",
    "#Taking student name as a Input\n",
    "\n",
    "s_name = input(\"Enter Student Name : \")\n",
    "\n",
    "#Taking Markas in phy,che,bio,math\n",
    "\n",
    "phy = float(input(\"Phy :\"))\n",
    "che = float(input(\"Che :\"))\n",
    "bio = float(input(\"Bio :\"))\n",
    "math = float(input(\"Math :\"))\n",
    "\n",
    "#Avg Marks of Student\n",
    "\n",
    "avg = (phy+che+bio+math)/4\n",
    "\n",
    "#Percentage of Student\n",
    "\n",
    "pect = ((phy+che+bio+math)/400)*100\n",
    "\n",
    "#Display Avg & Pect of Student\n",
    "\n",
    "\n",
    "print(\"Student Name : \" , s_name)\n",
    "print(\"Average Marks of \" , s_name ,\" are \" , avg)\n",
    "print(\"Percentage of \" , s_name ,\" are \" , pect)"
   ]
  }
 ],
 "metadata": {
  "kernelspec": {
   "display_name": "Python 3 (ipykernel)",
   "language": "python",
   "name": "python3"
  },
  "language_info": {
   "codemirror_mode": {
    "name": "ipython",
    "version": 3
   },
   "file_extension": ".py",
   "mimetype": "text/x-python",
   "name": "python",
   "nbconvert_exporter": "python",
   "pygments_lexer": "ipython3",
   "version": "3.10.9"
  }
 },
 "nbformat": 4,
 "nbformat_minor": 5
}
