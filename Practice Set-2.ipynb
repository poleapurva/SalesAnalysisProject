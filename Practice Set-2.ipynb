{
 "cells": [
  {
   "cell_type": "code",
   "execution_count": null,
   "id": "e83b2468",
   "metadata": {},
   "outputs": [],
   "source": [
    "\"\"\"\n",
    "1.Write a program to Swap Two Variables\n",
    "2.Write a program to Convert Kilometers to Miles\n",
    "3.Write a program to Check if a Number is Odd or Even\n",
    "4.Write a program to Check if a Number is Positive, Negative or 0\n",
    "5.Write a program to Convert Celsius To Fahrenheit\n",
    "\n",
    "\"\"\"\n"
   ]
  },
  {
   "cell_type": "code",
   "execution_count": 1,
   "id": "4430e780",
   "metadata": {},
   "outputs": [
    {
     "name": "stdout",
     "output_type": "stream",
     "text": [
      "Value of X : 25\n",
      "Value of Y : 10\n",
      "Value of x is :  10\n",
      "Value of y is :  25\n"
     ]
    }
   ],
   "source": [
    "#1.Write a program to Swap Two Variables values\n",
    "\n",
    "x = input(\"Value of X : \")\n",
    "\n",
    "y=  input(\"Value of Y : \")\n",
    "\n",
    "#to replace Value using Temp variable\n",
    "\n",
    "temp = x\n",
    "\n",
    "x = y \n",
    "\n",
    "y = temp\n",
    "\n",
    "\n",
    "print(\"Value of x is : \" , x)\n",
    "print(\"Value of y is : \" , y)\n",
    "\n",
    "\n",
    "#Using addiation & Substraction"
   ]
  },
  {
   "cell_type": "code",
   "execution_count": 3,
   "id": "ca17430e",
   "metadata": {},
   "outputs": [
    {
     "name": "stdout",
     "output_type": "stream",
     "text": [
      "Enter Value to convert Kilometer into Miles : 25\n",
      "Miles  :  15.534295\n"
     ]
    }
   ],
   "source": [
    "#2.Write a program to Convert Kilometers to Miles\n",
    "\n",
    "\n",
    "kilo = float(input(\"Enter Value to convert Kilometer into Miles : \" ))\n",
    "\n",
    "miles = 0.6213718*kilo\n",
    "\n",
    "print(\"Miles  : \" , miles)"
   ]
  },
  {
   "cell_type": "code",
   "execution_count": 8,
   "id": "5d2be1ac",
   "metadata": {},
   "outputs": [
    {
     "name": "stdout",
     "output_type": "stream",
     "text": [
      "Enter Number to check for odd or even : 224\n",
      "Enter Num is even :  True\n"
     ]
    }
   ],
   "source": [
    "#3.Write a program to Check if a Number is Odd or Even\n",
    "\n",
    "#even : 2,4,6,8\n",
    "#odd  : 1,3,5,7\n",
    "\n",
    "num = int(input(\"Enter Number to check for odd or even : \"))\n",
    "\n",
    "print(\"Enter Num is even : \" , num%2==0)"
   ]
  },
  {
   "cell_type": "code",
   "execution_count": 10,
   "id": "4f81f3f0",
   "metadata": {},
   "outputs": [
    {
     "name": "stdout",
     "output_type": "stream",
     "text": [
      "Enter Number to check for Positive or Negative : -5\n",
      "Enter Num is positive  :  False\n"
     ]
    }
   ],
   "source": [
    "#4.Write a program to Check if a Number is Positive, Negative\n",
    "\n",
    "num = int(input(\"Enter Number to check for Positive or Negative : \"))\n",
    "\n",
    "print(\"Enter Num is positive  : \" , num>0)\n",
    "\n",
    "\n",
    "\n",
    "\n"
   ]
  },
  {
   "cell_type": "code",
   "execution_count": 11,
   "id": "8ba938a0",
   "metadata": {},
   "outputs": [
    {
     "name": "stdout",
     "output_type": "stream",
     "text": [
      "Enter Value to convert Celsius To Fahrenheit : 34\n",
      "fert  :  93.2\n"
     ]
    }
   ],
   "source": [
    "#5.Write a program to Convert Celsius To Fahrenheit\n",
    "\n",
    "#f = 1.8 x °C + 32\n",
    "\n",
    "Celius = float(input(\"Enter Value to convert Celsius To Fahrenheit : \" ))\n",
    "\n",
    "fert = (1.8 * Celius ) + 32\n",
    "\n",
    "print(\"fert  : \" ,fert)\n",
    "\n"
   ]
  }
 ],
 "metadata": {
  "kernelspec": {
   "display_name": "Python 3 (ipykernel)",
   "language": "python",
   "name": "python3"
  },
  "language_info": {
   "codemirror_mode": {
    "name": "ipython",
    "version": 3
   },
   "file_extension": ".py",
   "mimetype": "text/x-python",
   "name": "python",
   "nbconvert_exporter": "python",
   "pygments_lexer": "ipython3",
   "version": "3.10.9"
  }
 },
 "nbformat": 4,
 "nbformat_minor": 5
}
